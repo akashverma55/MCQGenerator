{
 "cells": [
  {
   "cell_type": "markdown",
   "id": "8d024d6c",
   "metadata": {},
   "source": [
    "# MCQ Generator #"
   ]
  },
  {
   "cell_type": "markdown",
   "id": "b7239437",
   "metadata": {},
   "source": [
    "#### Importing Libraries ####"
   ]
  },
  {
   "cell_type": "code",
   "execution_count": 3,
   "id": "85c3be6b",
   "metadata": {},
   "outputs": [],
   "source": [
    "import spacy \n",
    "import random \n",
    "from collections import Counter"
   ]
  },
  {
   "cell_type": "code",
   "execution_count": 4,
   "id": "2b741777",
   "metadata": {},
   "outputs": [],
   "source": [
    "text= \"An artificial intelligence (AI) course provides foundational and advanced knowledge of AI principles, techniques, and applications. These courses typically cover topics like machine learning, deep learning, natural language processing, and computer vision. They aim to equip learners with the skills to understand and contribute to the development of intelligent systems that can perform tasks requiring human-like intelligence. \""
   ]
  },
  {
   "cell_type": "code",
   "execution_count": null,
   "id": "5983086d",
   "metadata": {},
   "outputs": [],
   "source": []
  }
 ],
 "metadata": {
  "kernelspec": {
   "display_name": "Python 3",
   "language": "python",
   "name": "python3"
  },
  "language_info": {
   "codemirror_mode": {
    "name": "ipython",
    "version": 3
   },
   "file_extension": ".py",
   "mimetype": "text/x-python",
   "name": "python",
   "nbconvert_exporter": "python",
   "pygments_lexer": "ipython3",
   "version": "3.11.9"
  }
 },
 "nbformat": 4,
 "nbformat_minor": 5
}
